{
  "nbformat": 4,
  "nbformat_minor": 0,
  "metadata": {
    "colab": {
      "name": "Hola mundo.ipynb",
      "provenance": []
    },
    "kernelspec": {
      "name": "python3",
      "display_name": "Python 3"
    },
    "language_info": {
      "name": "python"
    }
  },
  "cells": [
    {
      "cell_type": "code",
      "execution_count": null,
      "metadata": {
        "id": "1xEUQR-1V_Be"
      },
      "outputs": [],
      "source": [
        "J=8\n",
        "S=['H','O','L','A','M','U','N','D','O']\n",
        "#A=['O','D','N','U','M','A','L','O','H']\n",
        "#S=input('Bienvenido :)')\n",
        "for i in range(0,5):\n",
        "  print(S)\n",
        "  vari=S[J]\n",
        "  S[J]=S[i]\n",
        "  S[i]=vari\n",
        "  J=J-1\n",
        "  print(S)"
      ]
    }
  ]
}
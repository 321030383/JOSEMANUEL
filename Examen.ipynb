{
  "nbformat": 4,
  "nbformat_minor": 0,
  "metadata": {
    "colab": {
      "name": "Examen.ipynb",
      "provenance": []
    },
    "kernelspec": {
      "name": "python3",
      "display_name": "Python 3"
    },
    "language_info": {
      "name": "python"
    }
  },
  "cells": [
    {
      "cell_type": "code",
      "execution_count": null,
      "metadata": {
        "colab": {
          "base_uri": "https://localhost:8080/"
        },
        "id": "RGlOLIHVDaXp",
        "outputId": "a1cf6851-fb49-4aa1-e0fb-2652bc340ba9"
      },
      "outputs": [
        {
          "output_type": "stream",
          "name": "stdout",
          "text": [
            "['a', 'd', 'i', 'v', 's', 'e', 's', 'o', 'i', 'd']\n"
          ]
        }
      ],
      "source": [
        "J=9\n",
        "S=['d','i','o','s','e','s','v','i','d','a']\n",
        "#A=['a','d','i','v','s','e','s','o','i','d']\n",
        "#S=input('Bienvenido :)')\n",
        "for i in range(0,5):\n",
        "  vari=S[J]\n",
        "  S[J]=S[i]\n",
        "  S[i]=vari\n",
        "  J=J-1\n",
        "print(S)"
      ]
    }
  ]
}
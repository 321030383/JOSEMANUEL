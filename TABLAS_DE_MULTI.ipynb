{
  "nbformat": 4,
  "nbformat_minor": 0,
  "metadata": {
    "colab": {
      "name": "TABLAS DE MULTI.ipynb",
      "provenance": []
    },
    "kernelspec": {
      "name": "python3",
      "display_name": "Python 3"
    },
    "language_info": {
      "name": "python"
    }
  },
  "cells": [
    {
      "cell_type": "code",
      "execution_count": null,
      "metadata": {
        "colab": {
          "base_uri": "https://localhost:8080/"
        },
        "id": "j-_YVR7I9Rv1",
        "outputId": "0033a3d4-379d-40c5-ccd5-9a16f81f56ce"
      },
      "outputs": [
        {
          "output_type": "stream",
          "name": "stdout",
          "text": [
            "tablas de multiplicar\n",
            "digitar un numero entero owo:3\n",
            "0 x 3= 0\n",
            "1 x 3= 3\n",
            "2 x 3= 6\n",
            "3 x 3= 9\n",
            "4 x 3= 12\n",
            "5 x 3= 15\n",
            "6 x 3= 18\n",
            "7 x 3= 21\n",
            "8 x 3= 24\n",
            "9 x 3= 27\n",
            "10 x 3= 30\n"
          ]
        }
      ],
      "source": [
        "print(\"tablas de multiplicar\")\n",
        "numero = int(input('digitar un numero entero owo:'))\n",
        "for i in range(0,11):\n",
        "  print(f'{i} x {numero}= {i * numero}')\n",
        "\n",
        "\n"
      ]
    },
    {
      "cell_type": "markdown",
      "source": [
        ""
      ],
      "metadata": {
        "id": "WRya2uqmA2Ke"
      }
    }
  ]
}
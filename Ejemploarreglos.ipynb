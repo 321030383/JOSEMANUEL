{
  "nbformat": 4,
  "nbformat_minor": 0,
  "metadata": {
    "colab": {
      "name": "Ejemploarreglos.ipynb",
      "provenance": [],
      "include_colab_link": true
    },
    "kernelspec": {
      "name": "python3",
      "display_name": "Python 3"
    },
    "language_info": {
      "name": "python"
    }
  },
  "cells": [
    {
      "cell_type": "markdown",
      "metadata": {
        "id": "view-in-github",
        "colab_type": "text"
      },
      "source": [
        "<a href=\"https://colab.research.google.com/github/321030383/JOSEMANUEL/blob/main/Ejemploarreglos.ipynb\" target=\"_parent\"><img src=\"https://colab.research.google.com/assets/colab-badge.svg\" alt=\"Open In Colab\"/></a>"
      ]
    },
    {
      "cell_type": "code",
      "execution_count": null,
      "metadata": {
        "colab": {
          "base_uri": "https://localhost:8080/"
        },
        "id": "7JUAoFMH7VVk",
        "outputId": "3e3d460a-2e24-4eb9-bdef-8b5ae7372cdf"
      },
      "outputs": [
        {
          "output_type": "stream",
          "name": "stdout",
          "text": [
            "vis a vis\n"
          ]
        }
      ],
      "source": [
        "Seriesfavoritas=['Euphoria', 'Greys anatomy', 'vis a vis', 'Lucifer']\n",
        "print(Seriesfavoritas[2])"
      ]
    },
    {
      "cell_type": "code",
      "source": [
        "Prueba=[]\n",
        "Prueba.append(int(input('Ingrese un numero: ')))\n",
        "Prueba.append(int(input('Ingrese un numero: ')))\n",
        "Prueba.append(int(input('Ingrese un numero: ')))\n",
        "Prueba.append(int(input('Ingrese un numero: ')))\n",
        "Prueba.append(int(input('Ingrese un numero: ')))\n",
        "Prueba.append(int(input('Ingrese un numero: ')))\n",
        "print(Prueba[0])\n",
        "print(Prueba[4])\n",
        "print(Prueba[1])"
      ],
      "metadata": {
        "colab": {
          "base_uri": "https://localhost:8080/"
        },
        "id": "6OLPZ5269-yt",
        "outputId": "5a8446db-efef-4b38-ac21-bbe194fd4887"
      },
      "execution_count": null,
      "outputs": [
        {
          "output_type": "stream",
          "name": "stdout",
          "text": [
            "Ingrese un numero: 9\n",
            "Ingrese un numero: 2\n",
            "Ingrese un numero: 5\n",
            "Ingrese un numero: 7\n",
            "Ingrese un numero: 8\n",
            "Ingrese un numero: 9\n",
            "9\n",
            "8\n",
            "2\n"
          ]
        }
      ]
    },
    {
      "cell_type": "code",
      "source": [
        "Numeros=[]\n",
        "for i in range (0,5):\n",
        "  Numeros.append(int(input('Ingresa el numero: ')))\n",
        "print(Numeros[0])\n",
        "print(Numeros[3])\n"
      ],
      "metadata": {
        "colab": {
          "base_uri": "https://localhost:8080/"
        },
        "id": "dcKybbtLAD8H",
        "outputId": "fb8108ca-cbee-43be-d59e-61b7170540c9"
      },
      "execution_count": null,
      "outputs": [
        {
          "output_type": "stream",
          "name": "stdout",
          "text": [
            "Ingresa el numero: 3\n",
            "Ingresa el numero: 6\n",
            "Ingresa el numero: 8\n",
            "Ingresa el numero: 1\n",
            "Ingresa el numero: 4\n",
            "3\n",
            "1\n"
          ]
        }
      ]
    }
  ]
}
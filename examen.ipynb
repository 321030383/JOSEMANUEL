{
  "nbformat": 4,
  "nbformat_minor": 0,
  "metadata": {
    "colab": {
      "name": "examen.ipynb",
      "provenance": [],
      "include_colab_link": true
    },
    "kernelspec": {
      "name": "python3",
      "display_name": "Python 3"
    },
    "language_info": {
      "name": "python"
    }
  },
  "cells": [
    {
      "cell_type": "markdown",
      "metadata": {
        "id": "view-in-github",
        "colab_type": "text"
      },
      "source": [
        "<a href=\"https://colab.research.google.com/github/321030383/JOSEMANUEL/blob/main/examen.ipynb\" target=\"_parent\"><img src=\"https://colab.research.google.com/assets/colab-badge.svg\" alt=\"Open In Colab\"/></a>"
      ]
    },
    {
      "cell_type": "code",
      "execution_count": null,
      "metadata": {
        "id": "wNIeNSCPLBHV"
      },
      "outputs": [],
      "source": [
        "arreglo=[]\n",
        "for i in range(0,51):\n",
        "  arreglo.append (int(input('ingresa un numero : ')))\n",
        "for i in range(0,51):\n",
        "  for j in range(0,50):\n",
        "    if arreglo[j]>arreglo[j+1]:\n",
        "      aux=arreglo[j]\n",
        "      arreglo[j]=arreglo[j+1]\n",
        "      arreglo[j+1]=aux\n",
        "print(arreglo)\n",
        "for i in range(0,51):\n",
        "  for j in range(0,50):\n",
        "    if arreglo[j] < arreglo[j+1]:\n",
        "      aux=arreglo[j]\n",
        "      arreglo[j]=arreglo[j+1]\n",
        "      arreglo[j+1]=aux\n",
        "print(arreglo)\n",
        "\n"
      ]
    }
  ]
}
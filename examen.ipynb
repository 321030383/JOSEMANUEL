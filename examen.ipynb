{
  "nbformat": 4,
  "nbformat_minor": 0,
  "metadata": {
    "colab": {
      "name": "examen",
      "provenance": [],
      "include_colab_link": true
    },
    "kernelspec": {
      "name": "python3",
      "display_name": "Python 3"
    },
    "language_info": {
      "name": "python"
    }
  },
  "cells": [
    {
      "cell_type": "markdown",
      "metadata": {
        "id": "view-in-github",
        "colab_type": "text"
      },
      "source": [
        "<a href=\"https://colab.research.google.com/github/321030383/JOSEMANUEL/blob/main/examen.ipynb\" target=\"_parent\"><img src=\"https://colab.research.google.com/assets/colab-badge.svg\" alt=\"Open In Colab\"/></a>"
      ]
    },
    {
      "cell_type": "code",
      "execution_count": null,
      "metadata": {
        "colab": {
          "base_uri": "https://localhost:8080/"
        },
        "id": "wNIeNSCPLBHV",
        "outputId": "4bbfd280-3ae1-474e-b781-745609d15c47"
      },
      "outputs": [
        {
          "output_type": "stream",
          "name": "stdout",
          "text": [
            "ingresa un numero : 34\n",
            "ingresa un numero : 12\n",
            "ingresa un numero : 4\n",
            "ingresa un numero : 7\n",
            "ingresa un numero : 5\n",
            "ingresa un numero : 6\n",
            "ingresa un numero : 12\n",
            "ingresa un numero : 54\n",
            "ingresa un numero : 6\n",
            "ingresa un numero : 1\n",
            "ingresa un numero : 0\n",
            "ingresa un numero : 87\n",
            "ingresa un numero : 556\n",
            "ingresa un numero : 22\n",
            "ingresa un numero : 65\n",
            "ingresa un numero : 12\n",
            "ingresa un numero : 45\n",
            "ingresa un numero : 0\n",
            "ingresa un numero : 56\n",
            "ingresa un numero : 34\n",
            "ingresa un numero : 12\n",
            "ingresa un numero : 87\n",
            "ingresa un numero : 34\n",
            "ingresa un numero : 76\n",
            "ingresa un numero : 89\n",
            "ingresa un numero : 23\n",
            "ingresa un numero : 56\n",
            "ingresa un numero : 12\n",
            "ingresa un numero : 67\n",
            "ingresa un numero : 56\n",
            "ingresa un numero : 45\n",
            "ingresa un numero : 34\n",
            "ingresa un numero : 43\n",
            "ingresa un numero : 54\n",
            "ingresa un numero : 65\n",
            "ingresa un numero : 76\n",
            "ingresa un numero : 98\n",
            "ingresa un numero : 45\n",
            "ingresa un numero : 67\n",
            "ingresa un numero : 34\n",
            "ingresa un numero : 876\n",
            "ingresa un numero : 987\n",
            "ingresa un numero : 34\n",
            "ingresa un numero : 23\n",
            "ingresa un numero : 856\n",
            "ingresa un numero : 93\n",
            "ingresa un numero : 91\n",
            "ingresa un numero : 92\n",
            "ingresa un numero : 93\n",
            "ingresa un numero : 67\n",
            "ingresa un numero : 64\n",
            "[0, 0, 1, 4, 5, 6, 6, 7, 12, 12, 12, 12, 12, 22, 23, 23, 34, 34, 34, 34, 34, 34, 43, 45, 45, 45, 54, 54, 56, 56, 56, 64, 65, 65, 67, 67, 67, 76, 76, 87, 87, 89, 91, 92, 93, 93, 98, 556, 856, 876, 987]\n",
            "[987, 876, 856, 556, 98, 93, 93, 92, 91, 89, 87, 87, 76, 76, 67, 67, 67, 65, 65, 64, 56, 56, 56, 54, 54, 45, 45, 45, 43, 34, 34, 34, 34, 34, 34, 23, 23, 22, 12, 12, 12, 12, 12, 7, 6, 6, 5, 4, 1, 0, 0]\n"
          ]
        }
      ],
      "source": [
        "arreglo=[]\n",
        "for i in range(0,51):\n",
        "  arreglo.append (int(input('ingresa un numero : ')))\n",
        "for i in range(0,51):\n",
        "  for j in range(0,50):\n",
        "    if arreglo[j]>arreglo[j+1]:\n",
        "      aux=arreglo[j]\n",
        "      arreglo[j]=arreglo[j+1]\n",
        "      arreglo[j+1]=aux\n",
        "print(arreglo)\n",
        "for i in range(0,51):\n",
        "  for j in range(0,50):\n",
        "    if arreglo[j] < arreglo[j+1]:\n",
        "      aux=arreglo[j]\n",
        "      arreglo[j]=arreglo[j+1]\n",
        "      arreglo[j+1]=aux\n",
        "print(arreglo)\n",
        "\n"
      ]
    }
  ]
}
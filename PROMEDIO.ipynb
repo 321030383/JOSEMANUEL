{
  "nbformat": 4,
  "nbformat_minor": 0,
  "metadata": {
    "colab": {
      "name": "PROMEDIO.ipynb",
      "provenance": [],
      "authorship_tag": "ABX9TyN5E/8DfjnjRmaQwnZoNUAU",
      "include_colab_link": true
    },
    "kernelspec": {
      "name": "python3",
      "display_name": "Python 3"
    },
    "language_info": {
      "name": "python"
    }
  },
  "cells": [
    {
      "cell_type": "markdown",
      "metadata": {
        "id": "view-in-github",
        "colab_type": "text"
      },
      "source": [
        "<a href=\"https://colab.research.google.com/github/321030383/JOSEMANUEL/blob/main/PROMEDIO.ipynb\" target=\"_parent\"><img src=\"https://colab.research.google.com/assets/colab-badge.svg\" alt=\"Open In Colab\"/></a>"
      ]
    },
    {
      "cell_type": "code",
      "execution_count": null,
      "metadata": {
        "id": "bHx1MPac7psP",
        "colab": {
          "base_uri": "https://localhost:8080/"
        },
        "outputId": "1a4d7bf2-9469-4df1-f21f-1129b7a9f53b"
      },
      "outputs": [
        {
          "output_type": "stream",
          "name": "stdout",
          "text": [
            "cuantas categorias se contemplaran: 4\n",
            "los datos de cuantos alumnos se compilaran: 4\n",
            "introduzca el dato de numero de control: 0\n",
            "introduzca el dato de nombre del alumno: Manuel\n",
            "introduzca el dato de calificacion: 10\n",
            "introduzca el dato de genero M/H: H\n",
            "introduzca el dato de numero de control: 1\n",
            "introduzca el dato de nombre del alumno: Sebas\n",
            "introduzca el dato de calificacion: 10\n",
            "introduzca el dato de genero M/H: H\n",
            "introduzca el dato de numero de control: 2\n",
            "introduzca el dato de nombre del alumno: Maria\n",
            "introduzca el dato de calificacion: 8\n",
            "introduzca el dato de genero M/H: M\n",
            "introduzca el dato de numero de control: 3\n",
            "introduzca el dato de nombre del alumno: Marta\n",
            "introduzca el dato de calificacion: 10\n",
            "introduzca el dato de genero M/H: M\n",
            "[['0', 'Manuel', '10', 'H'], ['1', 'Sebas', '10', 'H'], ['2', 'Maria', '8', 'M'], ['3', 'Marta', '10', 'M']]\n",
            "10.0\n",
            "9.0\n"
          ]
        }
      ],
      "source": [
        "cat=(int(input(\"cuantas categorias se contemplaran: \")))\n",
        "alu=(int(input(\"los datos de cuantos alumnos se compilaran: \")))\n",
        "\n",
        "M=\"[i][j]\"\n",
        "H=\"[i][j]\"\n",
        "suma=\"\"\n",
        "prom=\"\"\n",
        "A=[]\n",
        "\n",
        "valor=\"\"\n",
        "\n",
        "for i in range(alu):\n",
        "  A.append([0]*cat)\n",
        "\n",
        "for i in range(alu):\n",
        "  for j in range(cat):\n",
        "\n",
        "    if (j==0):\n",
        "      valor=\"numero de control\"\n",
        "    elif(j==1):\n",
        "      valor=\"nombre del alumno\"\n",
        "    elif(j==2):\n",
        "      valor=\"calificacion\"\n",
        "    elif(j==3):\n",
        "      valor=\"genero M/H\"\n",
        "\n",
        "    A[i][j]=input(\"introduzca el dato de \"+valor+ \": \" )\n",
        "\n",
        "\n",
        "print(A)\n",
        "\n",
        "Totalh=0\n",
        "Totalm=0\n",
        "Calh=0\n",
        "Calm=0\n",
        "Promedioh=0\n",
        "Promediom=0\n",
        "\n",
        "for i in range(0,alu):\n",
        "  #print(A[i][2]) #Calificaciones\n",
        "  #print(A[i][3]) #Gènero\n",
        "\n",
        "  if(A[i][3]=='H'):\n",
        "    Totalh=Totalh+1\n",
        "    Calh=Calh+int(A[i][2])\n",
        "\n",
        "  if(A[i][3]=='M'):\n",
        "    Totalm=Totalm+1\n",
        "    Calm=Calm+int(A[i][2])\n",
        "\n",
        "Promedioh=Calh/Totalh\n",
        "Promediom=Calm/Totalm\n",
        "\n",
        "print(Promedioh)\n",
        "\n",
        "print(Promediom)"
      ]
    }
  ]
}